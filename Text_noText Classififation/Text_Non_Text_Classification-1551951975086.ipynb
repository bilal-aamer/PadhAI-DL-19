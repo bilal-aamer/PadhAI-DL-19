{
  "nbformat": 4,
  "nbformat_minor": 0,
  "metadata": {
    "colab": {
      "name": "Text - Non Text Classification.ipynb",
      "version": "0.3.2",
      "provenance": [],
      "collapsed_sections": []
    },
    "kernelspec": {
      "display_name": "Python 3",
      "language": "python",
      "name": "python3"
    }
  },
  "cells": [
    {
      "metadata": {
        "id": "a192xmwKijHs",
        "colab_type": "code",
        "colab": {}
      },
      "cell_type": "code",
      "source": [
        "import os\n",
        "import sys\n",
        "import pickle\n",
        "import numpy as np\n",
        "import pandas as pd\n",
        "from PIL import Image, ImageFilter\n",
        "from tqdm import tqdm_notebook\n",
        "from sklearn.preprocessing import StandardScaler\n",
        "from sklearn.metrics import accuracy_score, mean_squared_error, log_loss, confusion_matrix\n",
        "import matplotlib.pyplot as plt\n",
        "\n",
        "np.random.seed(100)\n",
        "LEVEL = 'level_1'"
      ],
      "execution_count": 0,
      "outputs": []
    },
    {
      "metadata": {
        "id": "fIuRdSezijHx",
        "colab_type": "code",
        "colab": {}
      },
      "cell_type": "code",
      "source": [
        "class SigmoidNeuron:\n",
        "  \n",
        "  def __init__(self):\n",
        "    self.w = None\n",
        "    self.b = None\n",
        "    \n",
        "  def perceptron(self, x):\n",
        "    return np.dot(x, self.w.T) + self.b\n",
        "  \n",
        "  def sigmoid(self, x):\n",
        "    return 1.0/(1.0 + np.exp(-x))\n",
        "  \n",
        "  def grad_w_mse(self, x, y):\n",
        "    y_pred = self.sigmoid(self.perceptron(x))\n",
        "    return (y_pred - y) * y_pred * (1 - y_pred) * x\n",
        "  \n",
        "  def grad_b_mse(self, x, y):\n",
        "    y_pred = self.sigmoid(self.perceptron(x))\n",
        "    return (y_pred - y) * y_pred * (1 - y_pred)\n",
        "  \n",
        "  def grad_w_ce(self, x, y):\n",
        "    y_pred = self.sigmoid(self.perceptron(x))\n",
        "    if y == 0:\n",
        "      return y_pred * x\n",
        "    elif y == 1:\n",
        "      return -1 * (1 - y_pred) * x\n",
        "    else:\n",
        "      raise ValueError(\"y should be 0 or 1\")\n",
        "    \n",
        "  def grad_b_ce(self, x, y):\n",
        "    y_pred = self.sigmoid(self.perceptron(x))\n",
        "    if y == 0:\n",
        "      return y_pred \n",
        "    elif y == 1:\n",
        "      return -1 * (1 - y_pred)\n",
        "    else:\n",
        "      raise ValueError(\"y should be 0 or 1\")\n",
        "  \n",
        "  def fit(self, X, Y, epochs=1, learning_rate=1, initialise=True, loss_fn=\"mse\", display_loss=False):\n",
        "    \n",
        "    # initialise w, b\n",
        "    if initialise:\n",
        "      self.w = np.random.randn(1, X.shape[1])\n",
        "      self.b = 0\n",
        "      \n",
        "    if display_loss:\n",
        "      loss = {}\n",
        "    \n",
        "    for i in tqdm_notebook(range(epochs), total=epochs, unit=\"epoch\"):\n",
        "      dw = 0\n",
        "      db = 0\n",
        "      for x, y in zip(X, Y):\n",
        "        if loss_fn == \"mse\":\n",
        "          dw += self.grad_w_mse(x, y)\n",
        "          db += self.grad_b_mse(x, y) \n",
        "        elif loss_fn == \"ce\":\n",
        "          dw += self.grad_w_ce(x, y)\n",
        "          db += self.grad_b_ce(x, y)\n",
        "      self.w -= learning_rate * dw\n",
        "      self.b -= learning_rate * db\n",
        "      \n",
        "      if display_loss:\n",
        "        Y_pred = self.sigmoid(self.perceptron(X))\n",
        "        if loss_fn == \"mse\":\n",
        "          loss[i] = mean_squared_error(Y, Y_pred)\n",
        "        elif loss_fn == \"ce\":\n",
        "          loss[i] = log_loss(Y, Y_pred)\n",
        "    \n",
        "    if display_loss:\n",
        "      plt.plot(loss.values())\n",
        "      plt.xlabel('Epochs')\n",
        "      if loss_fn == \"mse\":\n",
        "        plt.ylabel('Mean Squared Error')\n",
        "      elif loss_fn == \"ce\":\n",
        "        plt.ylabel('Log Loss')\n",
        "      plt.show()\n",
        "      \n",
        "  def predict(self, X):\n",
        "    Y_pred = []\n",
        "    for x in X:\n",
        "      y_pred = self.sigmoid(self.perceptron(x))\n",
        "      Y_pred.append(y_pred)\n",
        "    return np.array(Y_pred)"
      ],
      "execution_count": 0,
      "outputs": []
    },
    {
      "metadata": {
        "id": "VDe2wjl_ijH0",
        "colab_type": "code",
        "colab": {}
      },
      "cell_type": "code",
      "source": [
        "def read_all(folder_path, key_prefix=\"\"):\n",
        "    '''\n",
        "    It returns a dictionary with 'file names' as keys and 'flattened image arrays' as values.\n",
        "    '''\n",
        "    print(\"Reading:\")\n",
        "    images = {}\n",
        "    files = os.listdir(folder_path)\n",
        "    for i, file_name in tqdm_notebook(enumerate(files), total=len(files)):\n",
        "        file_path = os.path.join(folder_path, file_name)\n",
        "        image_index = key_prefix + file_name[:-4]\n",
        "        image = Image.open(file_path)\n",
        "        image = image.convert(\"L\")\n",
        "        images[image_index] = np.array(image.copy()).flatten()\n",
        "        image.close()\n",
        "    return images"
      ],
      "execution_count": 0,
      "outputs": []
    },
    {
      "metadata": {
        "id": "mjuaN532ijH4",
        "colab_type": "code",
        "colab": {},
        "outputId": "4124ae5e-4a9c-44dc-8c84-7919e6927fe5"
      },
      "cell_type": "code",
      "source": [
        "languages = ['ta', 'hi', 'en']\n",
        "\n",
        "images_train = read_all(\"dataset_train/\"+LEVEL+\"/\"+\"background\", key_prefix='bgr_') # change the path\n",
        "for language in languages:\n",
        "  images_train.update(read_all(\"dataset_train/\"+LEVEL+\"/\"+language, key_prefix=language+\"_\" ))\n",
        "print(len(images_train))\n",
        "\n",
        "images_test = read_all(\"dataset_test/kaggle_\"+LEVEL, key_prefix='') # change the path\n",
        "print(len(images_test))"
      ],
      "execution_count": 0,
      "outputs": [
        {
          "output_type": "stream",
          "text": [
            "Reading:\n"
          ],
          "name": "stdout"
        },
        {
          "output_type": "display_data",
          "data": {
            "application/vnd.jupyter.widget-view+json": {
              "model_id": "3e84ce29147d4e169a371c4adfb72ec9",
              "version_major": 2,
              "version_minor": 0
            },
            "text/html": [
              "<p>Failed to display Jupyter Widget of type <code>HBox</code>.</p>\n",
              "<p>\n",
              "  If you're reading this message in the Jupyter Notebook or JupyterLab Notebook, it may mean\n",
              "  that the widgets JavaScript is still loading. If this message persists, it\n",
              "  likely means that the widgets JavaScript library is either not installed or\n",
              "  not enabled. See the <a href=\"https://ipywidgets.readthedocs.io/en/stable/user_install.html\">Jupyter\n",
              "  Widgets Documentation</a> for setup instructions.\n",
              "</p>\n",
              "<p>\n",
              "  If you're reading this message in another frontend (for example, a static\n",
              "  rendering on GitHub or <a href=\"https://nbviewer.jupyter.org/\">NBViewer</a>),\n",
              "  it may mean that your frontend doesn't currently support widgets.\n",
              "</p>\n"
            ],
            "text/plain": [
              "HBox(children=(IntProgress(value=0, max=450), HTML(value='')))"
            ]
          },
          "metadata": {
            "tags": []
          }
        },
        {
          "output_type": "stream",
          "text": [
            "\n",
            "Reading:\n"
          ],
          "name": "stdout"
        },
        {
          "output_type": "display_data",
          "data": {
            "application/vnd.jupyter.widget-view+json": {
              "model_id": "e20c6e5ac197496596bba8370b2fb181",
              "version_major": 2,
              "version_minor": 0
            },
            "text/html": [
              "<p>Failed to display Jupyter Widget of type <code>HBox</code>.</p>\n",
              "<p>\n",
              "  If you're reading this message in the Jupyter Notebook or JupyterLab Notebook, it may mean\n",
              "  that the widgets JavaScript is still loading. If this message persists, it\n",
              "  likely means that the widgets JavaScript library is either not installed or\n",
              "  not enabled. See the <a href=\"https://ipywidgets.readthedocs.io/en/stable/user_install.html\">Jupyter\n",
              "  Widgets Documentation</a> for setup instructions.\n",
              "</p>\n",
              "<p>\n",
              "  If you're reading this message in another frontend (for example, a static\n",
              "  rendering on GitHub or <a href=\"https://nbviewer.jupyter.org/\">NBViewer</a>),\n",
              "  it may mean that your frontend doesn't currently support widgets.\n",
              "</p>\n"
            ],
            "text/plain": [
              "HBox(children=(IntProgress(value=0, max=150), HTML(value='')))"
            ]
          },
          "metadata": {
            "tags": []
          }
        },
        {
          "output_type": "stream",
          "text": [
            "\n",
            "Reading:\n"
          ],
          "name": "stdout"
        },
        {
          "output_type": "display_data",
          "data": {
            "application/vnd.jupyter.widget-view+json": {
              "model_id": "b7de561b42104a0c8290a24651684c94",
              "version_major": 2,
              "version_minor": 0
            },
            "text/html": [
              "<p>Failed to display Jupyter Widget of type <code>HBox</code>.</p>\n",
              "<p>\n",
              "  If you're reading this message in the Jupyter Notebook or JupyterLab Notebook, it may mean\n",
              "  that the widgets JavaScript is still loading. If this message persists, it\n",
              "  likely means that the widgets JavaScript library is either not installed or\n",
              "  not enabled. See the <a href=\"https://ipywidgets.readthedocs.io/en/stable/user_install.html\">Jupyter\n",
              "  Widgets Documentation</a> for setup instructions.\n",
              "</p>\n",
              "<p>\n",
              "  If you're reading this message in another frontend (for example, a static\n",
              "  rendering on GitHub or <a href=\"https://nbviewer.jupyter.org/\">NBViewer</a>),\n",
              "  it may mean that your frontend doesn't currently support widgets.\n",
              "</p>\n"
            ],
            "text/plain": [
              "HBox(children=(IntProgress(value=0, max=150), HTML(value='')))"
            ]
          },
          "metadata": {
            "tags": []
          }
        },
        {
          "output_type": "stream",
          "text": [
            "\n",
            "Reading:\n"
          ],
          "name": "stdout"
        },
        {
          "output_type": "display_data",
          "data": {
            "application/vnd.jupyter.widget-view+json": {
              "model_id": "586fe0d164cd4ae483aadc9e057f077c",
              "version_major": 2,
              "version_minor": 0
            },
            "text/html": [
              "<p>Failed to display Jupyter Widget of type <code>HBox</code>.</p>\n",
              "<p>\n",
              "  If you're reading this message in the Jupyter Notebook or JupyterLab Notebook, it may mean\n",
              "  that the widgets JavaScript is still loading. If this message persists, it\n",
              "  likely means that the widgets JavaScript library is either not installed or\n",
              "  not enabled. See the <a href=\"https://ipywidgets.readthedocs.io/en/stable/user_install.html\">Jupyter\n",
              "  Widgets Documentation</a> for setup instructions.\n",
              "</p>\n",
              "<p>\n",
              "  If you're reading this message in another frontend (for example, a static\n",
              "  rendering on GitHub or <a href=\"https://nbviewer.jupyter.org/\">NBViewer</a>),\n",
              "  it may mean that your frontend doesn't currently support widgets.\n",
              "</p>\n"
            ],
            "text/plain": [
              "HBox(children=(IntProgress(value=0, max=150), HTML(value='')))"
            ]
          },
          "metadata": {
            "tags": []
          }
        },
        {
          "output_type": "stream",
          "text": [
            "\n",
            "900\n",
            "Reading:\n"
          ],
          "name": "stdout"
        },
        {
          "output_type": "display_data",
          "data": {
            "application/vnd.jupyter.widget-view+json": {
              "model_id": "b8e5012263ea41a5b50d8dea2b058d40",
              "version_major": 2,
              "version_minor": 0
            },
            "text/html": [
              "<p>Failed to display Jupyter Widget of type <code>HBox</code>.</p>\n",
              "<p>\n",
              "  If you're reading this message in the Jupyter Notebook or JupyterLab Notebook, it may mean\n",
              "  that the widgets JavaScript is still loading. If this message persists, it\n",
              "  likely means that the widgets JavaScript library is either not installed or\n",
              "  not enabled. See the <a href=\"https://ipywidgets.readthedocs.io/en/stable/user_install.html\">Jupyter\n",
              "  Widgets Documentation</a> for setup instructions.\n",
              "</p>\n",
              "<p>\n",
              "  If you're reading this message in another frontend (for example, a static\n",
              "  rendering on GitHub or <a href=\"https://nbviewer.jupyter.org/\">NBViewer</a>),\n",
              "  it may mean that your frontend doesn't currently support widgets.\n",
              "</p>\n"
            ],
            "text/plain": [
              "HBox(children=(IntProgress(value=0, max=300), HTML(value='')))"
            ]
          },
          "metadata": {
            "tags": []
          }
        },
        {
          "output_type": "stream",
          "text": [
            "\n",
            "300\n"
          ],
          "name": "stdout"
        }
      ]
    },
    {
      "metadata": {
        "id": "xqcTJRmSijH-",
        "colab_type": "code",
        "colab": {},
        "outputId": "3a26f608-868b-498d-b18d-bfae2b452d4e"
      },
      "cell_type": "code",
      "source": [
        "list(images_test.keys())[:5]"
      ],
      "execution_count": 0,
      "outputs": [
        {
          "output_type": "execute_result",
          "data": {
            "text/plain": [
              "['0', '1', '10', '100', '101']"
            ]
          },
          "metadata": {
            "tags": []
          },
          "execution_count": 5
        }
      ]
    },
    {
      "metadata": {
        "id": "yQUKxV_FijIC",
        "colab_type": "code",
        "colab": {},
        "outputId": "e6f2538b-3285-49ea-d6fd-7fbadc2bb975"
      },
      "cell_type": "code",
      "source": [
        "X_train = []\n",
        "Y_train = []\n",
        "for key, value in images_train.items():\n",
        "    X_train.append(value)\n",
        "    if key[:4] == \"bgr_\":\n",
        "        Y_train.append(0)\n",
        "    else:\n",
        "        Y_train.append(1)\n",
        "\n",
        "ID_test = []\n",
        "X_test = []\n",
        "for key, value in images_test.items():\n",
        "  ID_test.append(int(key))\n",
        "  X_test.append(value)\n",
        "  \n",
        "        \n",
        "X_train = np.array(X_train)\n",
        "Y_train = np.array(Y_train)\n",
        "X_test = np.array(X_test)\n",
        "\n",
        "print(X_train.shape, Y_train.shape)\n",
        "print(X_test.shape)"
      ],
      "execution_count": 0,
      "outputs": [
        {
          "output_type": "stream",
          "text": [
            "(900, 256) (900,)\n",
            "(300, 256)\n"
          ],
          "name": "stdout"
        }
      ]
    },
    {
      "metadata": {
        "id": "wy3IKx26ijIG",
        "colab_type": "code",
        "colab": {},
        "outputId": "f571f85d-1fe6-4a33-bcf1-ca1574aa3709"
      },
      "cell_type": "code",
      "source": [
        "scaler = StandardScaler()\n",
        "X_scaled_train = scaler.fit_transform(X_train)\n",
        "X_scaled_test = scaler.transform(X_test)"
      ],
      "execution_count": 0,
      "outputs": [
        {
          "output_type": "stream",
          "text": [
            "/home/gokul/anaconda3/lib/python3.6/site-packages/sklearn/utils/validation.py:475: DataConversionWarning: Data with input dtype uint8 was converted to float64 by StandardScaler.\n",
            "  warnings.warn(msg, DataConversionWarning)\n"
          ],
          "name": "stderr"
        }
      ]
    },
    {
      "metadata": {
        "id": "eboQW2n1ijIK",
        "colab_type": "code",
        "colab": {},
        "outputId": "fa8fbf5d-5d5c-4463-aa3c-909d6698b9b0"
      },
      "cell_type": "code",
      "source": [
        "sn_mse = SigmoidNeuron()\n",
        "sn_mse.fit(X_scaled_train, Y_train, epochs=100, learning_rate=0.015, loss_fn=\"mse\", display_loss=True)"
      ],
      "execution_count": 0,
      "outputs": [
        {
          "output_type": "display_data",
          "data": {
            "application/vnd.jupyter.widget-view+json": {
              "model_id": "63d2b6b052d145c5a67e320b97b6a771",
              "version_major": 2,
              "version_minor": 0
            },
            "text/html": [
              "<p>Failed to display Jupyter Widget of type <code>HBox</code>.</p>\n",
              "<p>\n",
              "  If you're reading this message in the Jupyter Notebook or JupyterLab Notebook, it may mean\n",
              "  that the widgets JavaScript is still loading. If this message persists, it\n",
              "  likely means that the widgets JavaScript library is either not installed or\n",
              "  not enabled. See the <a href=\"https://ipywidgets.readthedocs.io/en/stable/user_install.html\">Jupyter\n",
              "  Widgets Documentation</a> for setup instructions.\n",
              "</p>\n",
              "<p>\n",
              "  If you're reading this message in another frontend (for example, a static\n",
              "  rendering on GitHub or <a href=\"https://nbviewer.jupyter.org/\">NBViewer</a>),\n",
              "  it may mean that your frontend doesn't currently support widgets.\n",
              "</p>\n"
            ],
            "text/plain": [
              "HBox(children=(IntProgress(value=0), HTML(value='')))"
            ]
          },
          "metadata": {
            "tags": []
          }
        },
        {
          "output_type": "stream",
          "text": [
            "\n"
          ],
          "name": "stdout"
        },
        {
          "output_type": "display_data",
          "data": {
            "image/png": "[encoded data removed]",
            "text/plain": [
              "<matplotlib.figure.Figure at 0x7fd886b74f28>"
            ]
          },
          "metadata": {
            "tags": []
          }
        }
      ]
    },
    {
      "metadata": {
        "id": "547SFsgsijIO",
        "colab_type": "code",
        "colab": {},
        "outputId": "e6595d5e-a9e0-4b5f-f7b5-a56297bc69c0"
      },
      "cell_type": "code",
      "source": [
        "sn_ce = SigmoidNeuron()\n",
        "sn_ce.fit(X_scaled_train, Y_train, epochs=100, learning_rate=0.015, loss_fn=\"ce\", display_loss=True)"
      ],
      "execution_count": 0,
      "outputs": [
        {
          "output_type": "display_data",
          "data": {
            "application/vnd.jupyter.widget-view+json": {
              "model_id": "8b46be695bce4af2aacc264327c68e31",
              "version_major": 2,
              "version_minor": 0
            },
            "text/html": [
              "<p>Failed to display Jupyter Widget of type <code>HBox</code>.</p>\n",
              "<p>\n",
              "  If you're reading this message in the Jupyter Notebook or JupyterLab Notebook, it may mean\n",
              "  that the widgets JavaScript is still loading. If this message persists, it\n",
              "  likely means that the widgets JavaScript library is either not installed or\n",
              "  not enabled. See the <a href=\"https://ipywidgets.readthedocs.io/en/stable/user_install.html\">Jupyter\n",
              "  Widgets Documentation</a> for setup instructions.\n",
              "</p>\n",
              "<p>\n",
              "  If you're reading this message in another frontend (for example, a static\n",
              "  rendering on GitHub or <a href=\"https://nbviewer.jupyter.org/\">NBViewer</a>),\n",
              "  it may mean that your frontend doesn't currently support widgets.\n",
              "</p>\n"
            ],
            "text/plain": [
              "HBox(children=(IntProgress(value=0), HTML(value='')))"
            ]
          },
          "metadata": {
            "tags": []
          }
        },
        {
          "output_type": "stream",
          "text": [
            "\n"
          ],
          "name": "stdout"
        },
        {
          "output_type": "display_data",
          "data": {
            "image/png": "[encoded data removed]",
            "text/plain": [
              "<matplotlib.figure.Figure at 0x7fd8798b9b38>"
            ]
          },
          "metadata": {
            "tags": []
          }
        }
      ]
    },
    {
      "metadata": {
        "id": "_a3_-9zYijIS",
        "colab_type": "code",
        "colab": {}
      },
      "cell_type": "code",
      "source": [
        "def print_accuracy(sn):\n",
        "  Y_pred_train = sn.predict(X_scaled_train)\n",
        "  Y_pred_binarised_train = (Y_pred_train >= 0.5).astype(\"int\").ravel()\n",
        "  accuracy_train = accuracy_score(Y_pred_binarised_train, Y_train)\n",
        "  print(\"Train Accuracy : \", accuracy_train)\n",
        "  print(\"-\"*50)"
      ],
      "execution_count": 0,
      "outputs": []
    },
    {
      "metadata": {
        "id": "lqe2g9PLijIW",
        "colab_type": "code",
        "colab": {},
        "outputId": "0ce4b45c-78f5-4323-829b-db3e12c3f268"
      },
      "cell_type": "code",
      "source": [
        "print_accuracy(sn_mse)\n",
        "print_accuracy(sn_ce)"
      ],
      "execution_count": 0,
      "outputs": [
        {
          "output_type": "stream",
          "text": [
            "Train Accuracy :  0.9666666666666667\n",
            "--------------------------------------------------\n",
            "Train Accuracy :  1.0\n",
            "--------------------------------------------------\n"
          ],
          "name": "stdout"
        }
      ]
    },
    {
      "metadata": {
        "id": "8IMv7SCUijIa",
        "colab_type": "text"
      },
      "cell_type": "markdown",
      "source": [
        "## Sample Submission"
      ]
    },
    {
      "metadata": {
        "id": "4_pBsgYlijIb",
        "colab_type": "code",
        "colab": {}
      },
      "cell_type": "code",
      "source": [
        "Y_pred_test = sn_ce.predict(X_scaled_test)\n",
        "Y_pred_binarised_test = (Y_pred_test >= 0.5).astype(\"int\").ravel()\n",
        "\n",
        "submission = {}\n",
        "submission['ImageId'] = ID_test\n",
        "submission['Class'] = Y_pred_binarised_test\n",
        "\n",
        "submission = pd.DataFrame(submission)\n",
        "submission = submission[['ImageId', 'Class']]\n",
        "submission = submission.sort_values(['ImageId'])\n",
        "submission.to_csv(\"submisision.csv\", index=False)"
      ],
      "execution_count": 0,
      "outputs": []
    },
    {
      "metadata": {
        "id": "LCkK3-CDijIe",
        "colab_type": "code",
        "colab": {}
      },
      "cell_type": "code",
      "source": [
        ""
      ],
      "execution_count": 0,
      "outputs": []
    }
  ]
}